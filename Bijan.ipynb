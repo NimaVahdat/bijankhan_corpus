{
 "cells": [
  {
   "cell_type": "markdown",
   "id": "5fe1494d",
   "metadata": {},
   "source": [
    "# Nima Vahdat 610397163"
   ]
  },
  {
   "cell_type": "code",
   "execution_count": 36,
   "id": "027ab59a",
   "metadata": {},
   "outputs": [],
   "source": [
    "import pandas as pd\n",
    "import matplotlib.pyplot as plt\n",
    "import pylab as pl \n",
    "\n",
    "#from sklearn.model_selection import ShuffleSplit, cross_val_score, train_test_split\n",
    "from sklearn.metrics import accuracy_score, precision_score, recall_score\n",
    "from sklearn.preprocessing import LabelEncoder"
   ]
  },
  {
   "cell_type": "markdown",
   "id": "da0f1ae5",
   "metadata": {},
   "source": [
    "### Importing and checking dataset info"
   ]
  },
  {
   "cell_type": "code",
   "execution_count": 2,
   "id": "c7ef2055",
   "metadata": {},
   "outputs": [
    {
     "data": {
      "text/html": [
       "<div>\n",
       "<style scoped>\n",
       "    .dataframe tbody tr th:only-of-type {\n",
       "        vertical-align: middle;\n",
       "    }\n",
       "\n",
       "    .dataframe tbody tr th {\n",
       "        vertical-align: top;\n",
       "    }\n",
       "\n",
       "    .dataframe thead th {\n",
       "        text-align: right;\n",
       "    }\n",
       "</style>\n",
       "<table border=\"1\" class=\"dataframe\">\n",
       "  <thead>\n",
       "    <tr style=\"text-align: right;\">\n",
       "      <th></th>\n",
       "      <th>Unnamed: 0</th>\n",
       "      <th>token</th>\n",
       "      <th>pos_tag</th>\n",
       "      <th>ezafe_tag</th>\n",
       "    </tr>\n",
       "  </thead>\n",
       "  <tbody>\n",
       "    <tr>\n",
       "      <th>0</th>\n",
       "      <td>0</td>\n",
       "      <td>!هنری!</td>\n",
       "      <td>SUBJ</td>\n",
       "      <td>0</td>\n",
       "    </tr>\n",
       "    <tr>\n",
       "      <th>1</th>\n",
       "      <td>1</td>\n",
       "      <td>#</td>\n",
       "      <td>DELM</td>\n",
       "      <td>0</td>\n",
       "    </tr>\n",
       "    <tr>\n",
       "      <th>2</th>\n",
       "      <td>2</td>\n",
       "      <td>مسعود</td>\n",
       "      <td>N_SING_PR</td>\n",
       "      <td>1</td>\n",
       "    </tr>\n",
       "    <tr>\n",
       "      <th>3</th>\n",
       "      <td>3</td>\n",
       "      <td>شجاعی</td>\n",
       "      <td>N_SING_PR</td>\n",
       "      <td>1</td>\n",
       "    </tr>\n",
       "    <tr>\n",
       "      <th>4</th>\n",
       "      <td>4</td>\n",
       "      <td>طباطبایی</td>\n",
       "      <td>N_SING_PR</td>\n",
       "      <td>0</td>\n",
       "    </tr>\n",
       "  </tbody>\n",
       "</table>\n",
       "</div>"
      ],
      "text/plain": [
       "   Unnamed: 0     token    pos_tag  ezafe_tag\n",
       "0           0    !هنری!       SUBJ          0\n",
       "1           1         #       DELM          0\n",
       "2           2     مسعود  N_SING_PR          1\n",
       "3           3     شجاعی  N_SING_PR          1\n",
       "4           4  طباطبایی  N_SING_PR          0"
      ]
     },
     "execution_count": 2,
     "metadata": {},
     "output_type": "execute_result"
    }
   ],
   "source": [
    "df = pd.read_csv(\"updated_bijankhan_corpus.csv\")\n",
    "df.head()"
   ]
  },
  {
   "cell_type": "code",
   "execution_count": 3,
   "id": "c18aadd4",
   "metadata": {
    "scrolled": true
   },
   "outputs": [
    {
     "name": "stdout",
     "output_type": "stream",
     "text": [
      "<class 'pandas.core.frame.DataFrame'>\n",
      "RangeIndex: 2602536 entries, 0 to 2602535\n",
      "Data columns (total 4 columns):\n",
      " #   Column      Dtype \n",
      "---  ------      ----- \n",
      " 0   Unnamed: 0  int64 \n",
      " 1   token       object\n",
      " 2   pos_tag     object\n",
      " 3   ezafe_tag   int64 \n",
      "dtypes: int64(2), object(2)\n",
      "memory usage: 79.4+ MB\n"
     ]
    }
   ],
   "source": [
    "df.info()"
   ]
  },
  {
   "cell_type": "markdown",
   "id": "f0d46065",
   "metadata": {},
   "source": [
    "## Adding new features"
   ]
  },
  {
   "cell_type": "markdown",
   "id": "48da6be0",
   "metadata": {},
   "source": [
    "Now we need to add some features that we think they might be useful for classification"
   ]
  },
  {
   "cell_type": "markdown",
   "id": "88afa8d2",
   "metadata": {},
   "source": [
    "####  Length"
   ]
  },
  {
   "cell_type": "code",
   "execution_count": 4,
   "id": "180084dd",
   "metadata": {},
   "outputs": [],
   "source": [
    "df['length'] = df['token'].apply(len)"
   ]
  },
  {
   "cell_type": "markdown",
   "id": "8a345834",
   "metadata": {},
   "source": [
    "#### Next Token\n",
    "We need to handle the Nan data for the last row because we are shifting one column one row up"
   ]
  },
  {
   "cell_type": "code",
   "execution_count": 5,
   "id": "0e6ae767",
   "metadata": {},
   "outputs": [
    {
     "name": "stderr",
     "output_type": "stream",
     "text": [
      "/Users/nima/opt/anaconda3/lib/python3.9/site-packages/pandas/core/indexing.py:1732: SettingWithCopyWarning: \n",
      "A value is trying to be set on a copy of a slice from a DataFrame\n",
      "\n",
      "See the caveats in the documentation: https://pandas.pydata.org/pandas-docs/stable/user_guide/indexing.html#returning-a-view-versus-a-copy\n",
      "  self._setitem_single_block(indexer, value, name)\n"
     ]
    }
   ],
   "source": [
    "df['next_token'] = df['token'].shift(periods=-1)\n",
    "df['next_token'].iloc[-1] = str(\" \")"
   ]
  },
  {
   "cell_type": "markdown",
   "id": "ca0438b1",
   "metadata": {},
   "source": [
    "#### Next Position Tag\n",
    "We need to handle the Nan data for the last row because we are shifting one column one row up"
   ]
  },
  {
   "cell_type": "code",
   "execution_count": 6,
   "id": "f529f2c0",
   "metadata": {},
   "outputs": [],
   "source": [
    "df['next_pos_tag'] = df['pos_tag'].shift(periods=-1)\n",
    "df['next_pos_tag'].iloc[-1] = 'DELM'"
   ]
  },
  {
   "cell_type": "markdown",
   "id": "456167a4",
   "metadata": {},
   "source": [
    "#### Alphabet\n",
    "Additionally, we wish to add two new features for displaying the last alphabet of each token and the first alphabet of next token\n",
    "* l_token\n",
    "* f_next_token"
   ]
  },
  {
   "cell_type": "markdown",
   "id": "49d74d67",
   "metadata": {},
   "source": [
    "To do that we need to define two functions that return the first and the last alphabet of each token"
   ]
  },
  {
   "cell_type": "code",
   "execution_count": 7,
   "id": "fda6570f",
   "metadata": {},
   "outputs": [],
   "source": [
    "# Returns first alphabet\n",
    "def first_alphabet(token):\n",
    "    return token[0]\n",
    "\n",
    "# Returns last alphabet\n",
    "def last_alphabet(token):\n",
    "    return token[-1]"
   ]
  },
  {
   "cell_type": "code",
   "execution_count": 8,
   "id": "cbfbf678",
   "metadata": {},
   "outputs": [],
   "source": [
    "df['l_token'] = df['token'].apply(last_alphabet)\n",
    "df['f_next_token'] = df['next_token'].apply(first_alphabet)"
   ]
  },
  {
   "cell_type": "markdown",
   "id": "54f18374",
   "metadata": {},
   "source": [
    "Now let's check our dataframe one more time"
   ]
  },
  {
   "cell_type": "code",
   "execution_count": 9,
   "id": "7dcb1808",
   "metadata": {
    "scrolled": true
   },
   "outputs": [
    {
     "data": {
      "text/html": [
       "<div>\n",
       "<style scoped>\n",
       "    .dataframe tbody tr th:only-of-type {\n",
       "        vertical-align: middle;\n",
       "    }\n",
       "\n",
       "    .dataframe tbody tr th {\n",
       "        vertical-align: top;\n",
       "    }\n",
       "\n",
       "    .dataframe thead th {\n",
       "        text-align: right;\n",
       "    }\n",
       "</style>\n",
       "<table border=\"1\" class=\"dataframe\">\n",
       "  <thead>\n",
       "    <tr style=\"text-align: right;\">\n",
       "      <th></th>\n",
       "      <th>Unnamed: 0</th>\n",
       "      <th>token</th>\n",
       "      <th>pos_tag</th>\n",
       "      <th>ezafe_tag</th>\n",
       "      <th>length</th>\n",
       "      <th>next_token</th>\n",
       "      <th>next_pos_tag</th>\n",
       "      <th>l_token</th>\n",
       "      <th>f_next_token</th>\n",
       "    </tr>\n",
       "  </thead>\n",
       "  <tbody>\n",
       "    <tr>\n",
       "      <th>0</th>\n",
       "      <td>0</td>\n",
       "      <td>!هنری!</td>\n",
       "      <td>SUBJ</td>\n",
       "      <td>0</td>\n",
       "      <td>6</td>\n",
       "      <td>#</td>\n",
       "      <td>DELM</td>\n",
       "      <td>!</td>\n",
       "      <td>#</td>\n",
       "    </tr>\n",
       "    <tr>\n",
       "      <th>1</th>\n",
       "      <td>1</td>\n",
       "      <td>#</td>\n",
       "      <td>DELM</td>\n",
       "      <td>0</td>\n",
       "      <td>1</td>\n",
       "      <td>مسعود</td>\n",
       "      <td>N_SING_PR</td>\n",
       "      <td>#</td>\n",
       "      <td>م</td>\n",
       "    </tr>\n",
       "    <tr>\n",
       "      <th>2</th>\n",
       "      <td>2</td>\n",
       "      <td>مسعود</td>\n",
       "      <td>N_SING_PR</td>\n",
       "      <td>1</td>\n",
       "      <td>5</td>\n",
       "      <td>شجاعی</td>\n",
       "      <td>N_SING_PR</td>\n",
       "      <td>د</td>\n",
       "      <td>ش</td>\n",
       "    </tr>\n",
       "    <tr>\n",
       "      <th>3</th>\n",
       "      <td>3</td>\n",
       "      <td>شجاعی</td>\n",
       "      <td>N_SING_PR</td>\n",
       "      <td>1</td>\n",
       "      <td>5</td>\n",
       "      <td>طباطبایی</td>\n",
       "      <td>N_SING_PR</td>\n",
       "      <td>ی</td>\n",
       "      <td>ط</td>\n",
       "    </tr>\n",
       "    <tr>\n",
       "      <th>4</th>\n",
       "      <td>4</td>\n",
       "      <td>طباطبایی</td>\n",
       "      <td>N_SING_PR</td>\n",
       "      <td>0</td>\n",
       "      <td>8</td>\n",
       "      <td>#</td>\n",
       "      <td>DELM</td>\n",
       "      <td>ی</td>\n",
       "      <td>#</td>\n",
       "    </tr>\n",
       "  </tbody>\n",
       "</table>\n",
       "</div>"
      ],
      "text/plain": [
       "   Unnamed: 0     token    pos_tag  ezafe_tag  length next_token next_pos_tag  \\\n",
       "0           0    !هنری!       SUBJ          0       6          #         DELM   \n",
       "1           1         #       DELM          0       1      مسعود    N_SING_PR   \n",
       "2           2     مسعود  N_SING_PR          1       5      شجاعی    N_SING_PR   \n",
       "3           3     شجاعی  N_SING_PR          1       5   طباطبایی    N_SING_PR   \n",
       "4           4  طباطبایی  N_SING_PR          0       8          #         DELM   \n",
       "\n",
       "  l_token f_next_token  \n",
       "0       !            #  \n",
       "1       #            م  \n",
       "2       د            ش  \n",
       "3       ی            ط  \n",
       "4       ی            #  "
      ]
     },
     "execution_count": 9,
     "metadata": {},
     "output_type": "execute_result"
    }
   ],
   "source": [
    "df.head()"
   ]
  },
  {
   "cell_type": "markdown",
   "id": "1d9e168b",
   "metadata": {},
   "source": [
    "## Handling Categorical data"
   ]
  },
  {
   "cell_type": "markdown",
   "id": "6e7051b1",
   "metadata": {},
   "source": [
    "Some of these features are categorical, so we have to handle them accordingly"
   ]
  },
  {
   "cell_type": "code",
   "execution_count": 10,
   "id": "43fcdfd0",
   "metadata": {},
   "outputs": [],
   "source": [
    "labelencoder = LabelEncoder()\n",
    "df['pos_tag'] = labelencoder.fit_transform(df['pos_tag'])\n",
    "df['next_pos_tag'] = labelencoder.fit_transform(df['next_pos_tag'])\n",
    "\n",
    "df['token'] = labelencoder.fit_transform(df['token'])\n",
    "df['next_token'] = labelencoder.fit_transform(df['next_token'])\n",
    "\n",
    "df['l_token'] = labelencoder.fit_transform(df['l_token'])\n",
    "df['f_next_token'] = labelencoder.fit_transform(df['f_next_token'])"
   ]
  },
  {
   "cell_type": "markdown",
   "id": "9d5b59ba",
   "metadata": {},
   "source": [
    "# Visualisation on data"
   ]
  },
  {
   "cell_type": "markdown",
   "id": "092013f1",
   "metadata": {},
   "source": [
    "For the next step, we visualise the features and check their dependence to see if they are actually useful for classification"
   ]
  },
  {
   "cell_type": "markdown",
   "id": "25bba143",
   "metadata": {},
   "source": [
    "### Length"
   ]
  },
  {
   "cell_type": "code",
   "execution_count": 11,
   "id": "e8403eea",
   "metadata": {},
   "outputs": [
    {
     "data": {
      "text/plain": [
       "<AxesSubplot:ylabel='Frequency'>"
      ]
     },
     "execution_count": 11,
     "metadata": {},
     "output_type": "execute_result"
    },
    {
     "data": {
      "image/png": "[encoded data removed]",
      "text/plain": [
       "<Figure size 432x288 with 1 Axes>"
      ]
     },
     "metadata": {
      "needs_background": "light"
     },
     "output_type": "display_data"
    }
   ],
   "source": [
    "df['length'].plot(kind = 'hist' , bins = 50, color = 'green') "
   ]
  },
  {
   "cell_type": "code",
   "execution_count": 12,
   "id": "8c861312",
   "metadata": {},
   "outputs": [
    {
     "data": {
      "text/plain": [
       "Text(0.5, 0.98, 'Length via each ezafe')"
      ]
     },
     "execution_count": 12,
     "metadata": {},
     "output_type": "execute_result"
    },
    {
     "data": {
      "image/png": "[encoded data removed]",
      "text/plain": [
       "<Figure size 720x216 with 2 Axes>"
      ]
     },
     "metadata": {
      "needs_background": "light"
     },
     "output_type": "display_data"
    }
   ],
   "source": [
    "ax = df.hist(column = 'length', by = 'ezafe_tag', bins = 50 , figsize = (10, 3), color = 'purple');\n",
    "pl.suptitle('Length via each ezafe')"
   ]
  },
  {
   "cell_type": "markdown",
   "id": "26688187",
   "metadata": {},
   "source": [
    "### Position Tag"
   ]
  },
  {
   "cell_type": "code",
   "execution_count": 13,
   "id": "469a6699",
   "metadata": {
    "scrolled": true
   },
   "outputs": [
    {
     "data": {
      "text/plain": [
       "<AxesSubplot:ylabel='Frequency'>"
      ]
     },
     "execution_count": 13,
     "metadata": {},
     "output_type": "execute_result"
    },
    {
     "data": {
      "image/png": "[encoded data removed]",
      "text/plain": [
       "<Figure size 432x288 with 1 Axes>"
      ]
     },
     "metadata": {
      "needs_background": "light"
     },
     "output_type": "display_data"
    }
   ],
   "source": [
    "df['pos_tag'].plot(kind = 'hist' , bins = 50, color = 'teal') "
   ]
  },
  {
   "cell_type": "code",
   "execution_count": 14,
   "id": "3332ce16",
   "metadata": {
    "scrolled": true
   },
   "outputs": [
    {
     "data": {
      "text/plain": [
       "Text(0.5, 0.98, 'Position Tag via each ezafe')"
      ]
     },
     "execution_count": 14,
     "metadata": {},
     "output_type": "execute_result"
    },
    {
     "data": {
      "image/png": "[encoded data removed]",
      "text/plain": [
       "<Figure size 720x216 with 2 Axes>"
      ]
     },
     "metadata": {
      "needs_background": "light"
     },
     "output_type": "display_data"
    }
   ],
   "source": [
    "ax = df.hist(column = 'pos_tag', by = 'ezafe_tag', bins = 50 , figsize = (10, 3), color = 'darkviolet');\n",
    "pl.suptitle('Position Tag via each ezafe')"
   ]
  },
  {
   "cell_type": "markdown",
   "id": "c39eb5d3",
   "metadata": {},
   "source": [
    "### Next Position Tag"
   ]
  },
  {
   "cell_type": "code",
   "execution_count": 15,
   "id": "7d6e047e",
   "metadata": {
    "scrolled": true
   },
   "outputs": [
    {
     "data": {
      "text/plain": [
       "<AxesSubplot:ylabel='Frequency'>"
      ]
     },
     "execution_count": 15,
     "metadata": {},
     "output_type": "execute_result"
    },
    {
     "data": {
      "image/png": "[encoded data removed]",
      "text/plain": [
       "<Figure size 432x288 with 1 Axes>"
      ]
     },
     "metadata": {
      "needs_background": "light"
     },
     "output_type": "display_data"
    }
   ],
   "source": [
    "df['next_pos_tag'].plot(kind = 'hist' , bins = 50, color = 'lawngreen') "
   ]
  },
  {
   "cell_type": "code",
   "execution_count": 16,
   "id": "a730433d",
   "metadata": {
    "scrolled": true
   },
   "outputs": [
    {
     "data": {
      "text/plain": [
       "Text(0.5, 0.98, 'Next Position Tag via each ezafe')"
      ]
     },
     "execution_count": 16,
     "metadata": {},
     "output_type": "execute_result"
    },
    {
     "data": {
      "image/png": "[encoded data removed]",
      "text/plain": [
       "<Figure size 720x216 with 2 Axes>"
      ]
     },
     "metadata": {
      "needs_background": "light"
     },
     "output_type": "display_data"
    }
   ],
   "source": [
    "ax = df.hist(column = 'next_pos_tag', by = 'ezafe_tag', bins = 50 , figsize = (10, 3), color = 'hotpink');\n",
    "pl.suptitle('Next Position Tag via each ezafe')"
   ]
  },
  {
   "cell_type": "markdown",
   "id": "ac6721a2",
   "metadata": {},
   "source": [
    "### Token"
   ]
  },
  {
   "cell_type": "code",
   "execution_count": 17,
   "id": "5970a2fa",
   "metadata": {
    "scrolled": true
   },
   "outputs": [
    {
     "data": {
      "text/plain": [
       "<AxesSubplot:ylabel='Frequency'>"
      ]
     },
     "execution_count": 17,
     "metadata": {},
     "output_type": "execute_result"
    },
    {
     "data": {
      "image/png": "[encoded data removed]",
      "text/plain": [
       "<Figure size 432x288 with 1 Axes>"
      ]
     },
     "metadata": {
      "needs_background": "light"
     },
     "output_type": "display_data"
    }
   ],
   "source": [
    "df['token'].plot(kind = 'hist' , bins = 50, color = 'firebrick') "
   ]
  },
  {
   "cell_type": "code",
   "execution_count": 18,
   "id": "0f17f8a4",
   "metadata": {
    "scrolled": true
   },
   "outputs": [
    {
     "data": {
      "text/plain": [
       "Text(0.5, 0.98, 'Token via each ezafe')"
      ]
     },
     "execution_count": 18,
     "metadata": {},
     "output_type": "execute_result"
    },
    {
     "data": {
      "image/png": "[encoded data removed]",
      "text/plain": [
       "<Figure size 720x216 with 2 Axes>"
      ]
     },
     "metadata": {
      "needs_background": "light"
     },
     "output_type": "display_data"
    }
   ],
   "source": [
    "ax = df.hist(column = 'token', by = 'ezafe_tag', bins = 50 , figsize = (10, 3), color = 'navy');\n",
    "pl.suptitle('Token via each ezafe')"
   ]
  },
  {
   "cell_type": "markdown",
   "id": "7c5ae7ed",
   "metadata": {},
   "source": [
    "### Next token"
   ]
  },
  {
   "cell_type": "code",
   "execution_count": 19,
   "id": "57ec80f4",
   "metadata": {
    "scrolled": true
   },
   "outputs": [
    {
     "data": {
      "text/plain": [
       "<AxesSubplot:ylabel='Frequency'>"
      ]
     },
     "execution_count": 19,
     "metadata": {},
     "output_type": "execute_result"
    },
    {
     "data": {
      "image/png": "[encoded data removed]",
      "text/plain": [
       "<Figure size 432x288 with 1 Axes>"
      ]
     },
     "metadata": {
      "needs_background": "light"
     },
     "output_type": "display_data"
    }
   ],
   "source": [
    "df['next_token'].plot(kind = 'hist' , bins = 50, color = 'dodgerblue') "
   ]
  },
  {
   "cell_type": "code",
   "execution_count": 20,
   "id": "72a4a1ca",
   "metadata": {
    "scrolled": true
   },
   "outputs": [
    {
     "data": {
      "text/plain": [
       "Text(0.5, 0.98, 'Next Token via each ezafe')"
      ]
     },
     "execution_count": 20,
     "metadata": {},
     "output_type": "execute_result"
    },
    {
     "data": {
      "image/png": "[encoded data removed]",
      "text/plain": [
       "<Figure size 720x216 with 2 Axes>"
      ]
     },
     "metadata": {
      "needs_background": "light"
     },
     "output_type": "display_data"
    }
   ],
   "source": [
    "ax = df.hist(column = 'next_token', by = 'ezafe_tag', bins = 50 , figsize = (10, 3), color = 'magenta');\n",
    "pl.suptitle('Next Token via each ezafe')"
   ]
  },
  {
   "cell_type": "markdown",
   "id": "e74e592d",
   "metadata": {},
   "source": [
    "### Other features"
   ]
  },
  {
   "cell_type": "code",
   "execution_count": 21,
   "id": "047d5099",
   "metadata": {},
   "outputs": [
    {
     "data": {
      "text/plain": [
       "Text(0.5, 0.98, 'First alphabet of the next Token via each ezafe')"
      ]
     },
     "execution_count": 21,
     "metadata": {},
     "output_type": "execute_result"
    },
    {
     "data": {
      "image/png": "[encoded data removed]",
      "text/plain": [
       "<Figure size 720x216 with 2 Axes>"
      ]
     },
     "metadata": {
      "needs_background": "light"
     },
     "output_type": "display_data"
    },
    {
     "data": {
      "image/png": "[encoded data removed]",
      "text/plain": [
       "<Figure size 720x216 with 2 Axes>"
      ]
     },
     "metadata": {
      "needs_background": "light"
     },
     "output_type": "display_data"
    }
   ],
   "source": [
    "ax = df.hist(column = 'l_token', by = 'ezafe_tag', bins = 50 , figsize = (10, 3), color = 'blueviolet');\n",
    "pl.suptitle('Last alphabet of the Token via each ezafe')\n",
    "\n",
    "ax = df.hist(column = 'f_next_token', by = 'ezafe_tag', bins = 50 , figsize = (10, 3), color = 'indigo');\n",
    "pl.suptitle('First alphabet of the next Token via each ezafe')"
   ]
  },
  {
   "cell_type": "markdown",
   "id": "64709ab9",
   "metadata": {},
   "source": [
    "## Model"
   ]
  },
  {
   "cell_type": "markdown",
   "id": "f6824fe1",
   "metadata": {},
   "source": [
    "### Spliting Dataset"
   ]
  },
  {
   "cell_type": "code",
   "execution_count": 22,
   "id": "d3efdd5d",
   "metadata": {},
   "outputs": [],
   "source": [
    "X = df[['next_pos_tag', 'pos_tag', 'token', 'next_token', 'length', 'f_next_token', 'l_token']]\n",
    "y = df['ezafe_tag']\n",
    "\n",
    "\n",
    "# Spliting Dateset into test and train\n",
    "split = 10**5\n",
    "\n",
    "X_train = X.iloc[:-split]\n",
    "X_test = X.iloc[-split:]\n",
    "y_train = y.iloc[:-split]\n",
    "y_test = y.iloc[-split:]"
   ]
  },
  {
   "cell_type": "markdown",
   "id": "1a1e6a57",
   "metadata": {},
   "source": [
    "## Naive Bayes"
   ]
  },
  {
   "cell_type": "code",
   "execution_count": 23,
   "id": "4576c637",
   "metadata": {},
   "outputs": [],
   "source": [
    "from sklearn.naive_bayes import GaussianNB\n",
    "clf = GaussianNB()\n",
    "\n",
    "# Fiting data into model\n",
    "clf.fit(X_train, y_train)\n",
    "\n",
    "# Predicting on test data\n",
    "y_predict = clf.predict(X_test)"
   ]
  },
  {
   "cell_type": "markdown",
   "id": "9cbd03ad",
   "metadata": {},
   "source": [
    "### Evaluation"
   ]
  },
  {
   "cell_type": "code",
   "execution_count": 24,
   "id": "b4fddf4d",
   "metadata": {},
   "outputs": [
    {
     "name": "stdout",
     "output_type": "stream",
     "text": [
      "Accuracy: 0.75655\n",
      "Percision: 0.5033984600336084\n"
     ]
    }
   ],
   "source": [
    "print(\"Accuracy:\", accuracy_score(y_test, y_predict))\n",
    "print(\"Percision:\", precision_score(y_test, y_predict))"
   ]
  },
  {
   "cell_type": "code",
   "execution_count": 25,
   "id": "e4ae4c63",
   "metadata": {},
   "outputs": [
    {
     "data": {
      "image/png": "[encoded data removed]",
      "text/plain": [
       "<Figure size 432x288 with 2 Axes>"
      ]
     },
     "metadata": {
      "needs_background": "light"
     },
     "output_type": "display_data"
    }
   ],
   "source": [
    "from sklearn.metrics import plot_confusion_matrix\n",
    "plot_confusion_matrix(clf, X_test, y_test)  \n",
    "plt.show()"
   ]
  },
  {
   "cell_type": "markdown",
   "id": "d7bee1a9",
   "metadata": {},
   "source": [
    "## Decision Tree"
   ]
  },
  {
   "cell_type": "code",
   "execution_count": 32,
   "id": "24a2eb7d",
   "metadata": {
    "scrolled": true
   },
   "outputs": [],
   "source": [
    "from sklearn import tree\n",
    "clf = tree.DecisionTreeClassifier()\n",
    "\n",
    "# Fiting data into model\n",
    "clf.fit(X_train, y_train)\n",
    "\n",
    "# Predicting on test data\n",
    "y_predict = clf.predict(X_test)"
   ]
  },
  {
   "cell_type": "markdown",
   "id": "349a6c3f",
   "metadata": {},
   "source": [
    "### Evaluation"
   ]
  },
  {
   "cell_type": "code",
   "execution_count": 38,
   "id": "a2433bfc",
   "metadata": {},
   "outputs": [
    {
     "name": "stdout",
     "output_type": "stream",
     "text": [
      "Accuracy: 0.96556\n",
      "Percision: 0.9380897202449926\n"
     ]
    }
   ],
   "source": [
    "print(\"Accuracy:\", accuracy_score(y_test, y_predict))\n",
    "print(\"Percision:\", precision_score(y_test, y_predict))"
   ]
  },
  {
   "cell_type": "code",
   "execution_count": 34,
   "id": "f0a3ffe0",
   "metadata": {},
   "outputs": [
    {
     "data": {
      "image/png": "[encoded data removed]",
      "text/plain": [
       "<Figure size 432x288 with 2 Axes>"
      ]
     },
     "metadata": {
      "needs_background": "light"
     },
     "output_type": "display_data"
    }
   ],
   "source": [
    "from sklearn.metrics import plot_confusion_matrix\n",
    "plot_confusion_matrix(clf, X_test, y_test)  \n",
    "plt.show()"
   ]
  }
 ],
 "metadata": {
  "kernelspec": {
   "display_name": "Python 3 (ipykernel)",
   "language": "python",
   "name": "python3"
  },
  "language_info": {
   "codemirror_mode": {
    "name": "ipython",
    "version": 3
   },
   "file_extension": ".py",
   "mimetype": "text/x-python",
   "name": "python",
   "nbconvert_exporter": "python",
   "pygments_lexer": "ipython3",
   "version": "3.9.7"
  }
 },
 "nbformat": 4,
 "nbformat_minor": 5
}
